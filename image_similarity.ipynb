{
  "cells": [
    {
      "cell_type": "code",
      "source": [
        "from PIL import Image\n",
        "import numpy as np"
      ],
      "metadata": {
        "id": "2cvv4gnvigev"
      },
      "execution_count": 1,
      "outputs": []
    },
    {
      "cell_type": "code",
      "source": [
        "pic1 = Image.open('/content/person (4).jpg')\n",
        "pic2 = Image.open('/content/person (5).jpg')"
      ],
      "metadata": {
        "id": "wJB5DvW-ihXR"
      },
      "execution_count": 2,
      "outputs": []
    },
    {
      "cell_type": "code",
      "source": [
        "pic1_reshape = pic1.resize((round(pic1.size[0]*0.5), round(pic1.size[1]*0.5)))\n",
        "pic2_reshape = pic2.resize((round(pic1.size[0]*0.5), round(pic1.size[1]*0.5)))"
      ],
      "metadata": {
        "id": "BaPmNhdXi0TU"
      },
      "execution_count": 3,
      "outputs": []
    },
    {
      "cell_type": "code",
      "source": [
        "pic_array1 = np.array(pic1_reshape)\n",
        "pic_array2 = np.array(pic2_reshape)"
      ],
      "metadata": {
        "id": "WuqAwAgyjD_p"
      },
      "execution_count": 4,
      "outputs": []
    },
    {
      "cell_type": "code",
      "source": [
        "pic_array1 = pic_array1.flatten()\n",
        "pic_array2 = pic_array2.flatten()"
      ],
      "metadata": {
        "id": "jeAFFh9YjLj4"
      },
      "execution_count": 5,
      "outputs": []
    },
    {
      "cell_type": "code",
      "source": [
        "pic_array1 = pic_array1/255\n",
        "pic_array2 = pic_array2/255"
      ],
      "metadata": {
        "id": "XGvQKEOGjUQK"
      },
      "execution_count": 6,
      "outputs": []
    },
    {
      "cell_type": "code",
      "source": [
        "from scipy import spatial\n",
        "\n",
        "similarity = -1 * (spatial.distance.cosine(pic_array1, pic_array2) - 1)"
      ],
      "metadata": {
        "id": "L0hqeI6sjbqM"
      },
      "execution_count": 7,
      "outputs": []
    },
    {
      "cell_type": "code",
      "source": [
        "similarity"
      ],
      "metadata": {
        "colab": {
          "base_uri": "https://localhost:8080/"
        },
        "id": "tKz0cXl5jjhv",
        "outputId": "b4f411e3-ac93-4428-cba2-d2a2e101eb4d"
      },
      "execution_count": 8,
      "outputs": [
        {
          "output_type": "execute_result",
          "data": {
            "text/plain": [
              "0.6713762865479744"
            ]
          },
          "metadata": {},
          "execution_count": 8
        }
      ]
    },
    {
      "cell_type": "code",
      "source": [
        "img = Image.open('/content/person (8).jpg')\n",
        "img_reshape = img.resize((round(pic1.size[0]*0.5), round(pic1.size[1]*0.5)))\n",
        "img_array = np.array(img_reshape)\n",
        "img_array = img_array.flatten()\n",
        "img_array = img_array/255\n",
        "\n",
        "similarities = -1 * (spatial.distance.cosine(pic_array2, img_array) - 1)"
      ],
      "metadata": {
        "id": "Micz70Hpk2s2"
      },
      "execution_count": 16,
      "outputs": []
    },
    {
      "cell_type": "code",
      "source": [
        "similarities"
      ],
      "metadata": {
        "colab": {
          "base_uri": "https://localhost:8080/"
        },
        "id": "DCYgmxJkXaAR",
        "outputId": "da3264a7-39c9-4579-c227-3b38430b195f"
      },
      "execution_count": 17,
      "outputs": [
        {
          "output_type": "execute_result",
          "data": {
            "text/plain": [
              "0.4350693292744441"
            ]
          },
          "metadata": {},
          "execution_count": 17
        }
      ]
    },
    {
      "cell_type": "code",
      "source": [],
      "metadata": {
        "id": "etLKnlugXfCr"
      },
      "execution_count": null,
      "outputs": []
    }
  ],
  "metadata": {
    "accelerator": "GPU",
    "colab": {
      "provenance": []
    },
    "gpuClass": "standard",
    "kernelspec": {
      "display_name": "Python 3",
      "name": "python3"
    },
    "language_info": {
      "name": "python"
    }
  },
  "nbformat": 4,
  "nbformat_minor": 0
}